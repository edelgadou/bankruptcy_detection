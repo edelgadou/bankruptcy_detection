{
 "cells": [
  {
   "cell_type": "code",
   "execution_count": null,
   "metadata": {
    "collapsed": false
   },
   "outputs": [],
   "source": [
    "import importlib\n",
    "import pickle\n",
    "import pandas as pd\n",
    "import matplotlib.pyplot as plt\n",
    "%matplotlib qt4\n",
    "import seaborn as sns"
   ]
  },
  {
   "cell_type": "markdown",
   "metadata": {},
   "source": [
    "## Explore the amount of nans"
   ]
  },
  {
   "cell_type": "code",
   "execution_count": null,
   "metadata": {
    "collapsed": false
   },
   "outputs": [],
   "source": [
    "# Explore nans\n",
    "with sns.plotting_context('paper', font_scale=2): #, rc={\"figure.figsize\": [6.4,4.4]}):\n",
    "    file_path = './data/Dane/1year.csv'\n",
    "    class_in_focus = 1\n",
    "    data = pd.read_csv(file_path, na_values='?')\n",
    "    if class_in_focus != -1:\n",
    "        data = data.loc[data['class'] == class_in_focus,:]\n",
    "    data = data.drop(['class'],axis=1)\n",
    "    na_data = pd.isnull(data)\n",
    "    num_nans = na_data.sum(axis=1)\n",
    "    print('In total we have {} rows and {} features'.format(*data.shape))\n",
    "    nan_share_tot = num_nans.sum()/float((data.shape[0]*data.shape[1]))\n",
    "    print('Total share of nans is {}'.format(nan_share_tot)) \n",
    "    # Features with most nans\n",
    "    print((na_data.sum(axis=0)/len(na_data)).loc[['attr11', 'attr21','attr27','attr37']])\n",
    "    plt.figure(1)\n",
    "    plt.hist(na_data.drop(['attr11','attr21', 'attr27', 'attr37'], axis=1).sum(axis=0)/len(na_data)*100, range=(0,6), bins=10)\n",
    "    plt.title('Missing values per feature (class {})'.format(class_in_focus))\n",
    "    plt.xlabel('% missing values')\n",
    "    plt.ylabel('Features')\n",
    "    savepath = 'hist_nan_features_class{}.eps'.format(class_in_focus)\n",
    "    plt.savefig(savepath, format='eps', bbox_inches = 'tight')\n",
    "    plt.figure(2)\n",
    "    plt.hist(num_nans, bins=num_nans.max())\n",
    "    plt.xlim((0,10))\n",
    "    plt.title('Missing values per company (class {})'.format(class_in_focus))\n",
    "    plt.xlabel('Number of missing values')\n",
    "    plt.ylabel('Companies')\n",
    "    savepath = 'hist_nan_companies_class{}.eps'.format(class_in_focus)\n",
    "    plt.savefig(savepath, format='eps', bbox_inches = 'tight')\n",
    "    plt.show()"
   ]
  },
  {
   "cell_type": "code",
   "execution_count": null,
   "metadata": {
    "collapsed": false
   },
   "outputs": [],
   "source": []
  },
  {
   "cell_type": "code",
   "execution_count": null,
   "metadata": {
    "collapsed": false,
    "scrolled": true
   },
   "outputs": [],
   "source": [
    "# What happens if we through away the two features with highest frequency nans?\n",
    "na_data_dropped_some = na_data.drop(['attr37', 'attr21'], axis=1)\n",
    "num_nan_dropped = na_data_dropped_some.sum(axis=1)\n",
    "share_with_nan = (num_nan_dropped != 0).mean()\n",
    "print('Then we get {} share with at least one nan.'.format(share_with_nan))\n",
    "data_dropped = data.drop(['attr37', 'attr21'], axis=1)\n",
    "nan_share_dropped = num_nan_dropped.sum()/float((data_dropped.shape[0]*data_dropped.shape[1]))\n",
    "print('The total share of nans is then {}'.format(nan_share_dropped))"
   ]
  },
  {
   "cell_type": "markdown",
   "metadata": {
    "collapsed": false
   },
   "source": [
    "## Explore saved data"
   ]
  },
  {
   "cell_type": "code",
   "execution_count": null,
   "metadata": {
    "collapsed": false
   },
   "outputs": [],
   "source": [
    "# Load data\n",
    "data_path = 'output/s_20170518-RF/results_year1.pkl'\n",
    "\n",
    "with open(data_path, 'rb') as f:\n",
    "    results_RF = pickle.load(f)"
   ]
  },
  {
   "cell_type": "code",
   "execution_count": null,
   "metadata": {
    "collapsed": false
   },
   "outputs": [],
   "source": [
    "# Plot roc curve\n",
    "with sns.plotting_context('paper', font_scale=1): #, rc={\"figure.figsize\": [6.4,4.4]}):\n",
    "    plt.title('ROC curve')\n",
    "    plt.plot((0, 1), (0, 1), ls='--', c='k')\n",
    "    if type(results['roc_curve']['fpr']) == list:\n",
    "        # A CV run with multiple arrays\n",
    "        for fpr, tpr in zip(results['roc_curve']['fpr'], results['roc_curve']['tpr']):\n",
    "            plt.plot(fpr, tpr)\n",
    "    else:\n",
    "        # Not a CV run\n",
    "        plt.plot(results['roc_curve']['fpr'], results['roc_curve']['tpr'])\n",
    "    plt.xlabel('False positive rate')\n",
    "    plt.ylabel('True positive rate')\n",
    "    savepath = 'roc_curve.eps'\n",
    "    plt.savefig(savepath, format='eps', bbox_inches = 'tight')\n",
    "    plt.show()\n",
    "print('AUC value: {}'.format(results['roc_auc']))"
   ]
  },
  {
   "cell_type": "code",
   "execution_count": null,
   "metadata": {
    "collapsed": false
   },
   "outputs": [],
   "source": [
    "i = 7\n",
    "with sns.plotting_context('paper', font_scale=1): #, rc={\"figure.figsize\": [6.4,4.4]}):\n",
    "    plt.title('ROC curve')\n",
    "    plt.plot((0, 1), (0, 1), ls='--', c='k')\n",
    "    plt.plot(results_GB['roc_curve']['fpr'][i], results_GB['roc_curve']['tpr'][i], label='Gradient boosting algorithm')\n",
    "    plt.plot(results_RF['roc_curve']['fpr'][i], results_RF['roc_curve']['tpr'][i], label='Random forest algorithm')\n",
    "    plt.plot(results_NN['roc_curve']['fpr'][i], results_NN['roc_curve']['tpr'][i], label='Multilayer perceptron')\n",
    "    plt.xlabel('False positive rate')\n",
    "    plt.ylabel('True positive rate')\n",
    "    plt.legend(loc='lower right')\n",
    "    savepath = 'roc_curve.eps'\n",
    "    #plt.savefig(savepath, format='eps', bbox_inches = 'tight')\n",
    "    plt.show()"
   ]
  },
  {
   "cell_type": "code",
   "execution_count": null,
   "metadata": {
    "collapsed": false
   },
   "outputs": [],
   "source": [
    "i = 7\n",
    "%matplotlib qt4\n",
    "with sns.plotting_context('paper', font_scale=1): #, rc={\"figure.figsize\": [6.4,4.4]}):\n",
    "    plt.title('ROC curve with probability threshold')\n",
    "    plt.plot((0, 1), (0, 1), ls='--', c='k')\n",
    "    plt.plot(results_NN['roc_curve']['fpr'][i], results_NN['roc_curve']['tpr'][i], label='ROC curve MLP')\n",
    "    plt.plot(results_NN['roc_curve']['fpr'][i], results_NN['roc_curve']['thresholds'][i], label='Probability threshold MLP')\n",
    "    plt.xlabel('False positive rate')\n",
    "    plt.ylabel('True positive rate & probability threshold')\n",
    "    plt.legend(loc='center right')\n",
    "    savepath = 'roc_curve.eps'\n",
    "    plt.savefig(savepath, format='eps', bbox_inches = 'tight')\n",
    "    plt.show()"
   ]
  },
  {
   "cell_type": "code",
   "execution_count": null,
   "metadata": {
    "collapsed": false
   },
   "outputs": [],
   "source": []
  },
  {
   "cell_type": "code",
   "execution_count": null,
   "metadata": {
    "collapsed": true
   },
   "outputs": [],
   "source": []
  }
 ],
 "metadata": {
  "kernelspec": {
   "display_name": "Python 3",
   "language": "python",
   "name": "python3"
  },
  "language_info": {
   "codemirror_mode": {
    "name": "ipython",
    "version": 3
   },
   "file_extension": ".py",
   "mimetype": "text/x-python",
   "name": "python",
   "nbconvert_exporter": "python",
   "pygments_lexer": "ipython3",
   "version": "3.5.2"
  }
 },
 "nbformat": 4,
 "nbformat_minor": 1
}
